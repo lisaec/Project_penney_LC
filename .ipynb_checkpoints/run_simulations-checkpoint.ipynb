{
 "cells": [
  {
   "cell_type": "code",
   "execution_count": null,
   "id": "3cda26b5",
   "metadata": {},
   "outputs": [],
   "source": [
    "import data_gen\n",
    "import main_simulation\n",
    "import visualizations"
   ]
  },
  {
   "cell_type": "code",
   "execution_count": null,
   "id": "ec8d4279",
   "metadata": {},
   "outputs": [],
   "source": [
    "#save 100,000 decks \n",
    "deck_loc = data_gen.save_decks(100000, filepath = \"data\")"
   ]
  },
  {
   "cell_type": "code",
   "execution_count": null,
   "id": "6739e2ad",
   "metadata": {},
   "outputs": [],
   "source": [
    "#Or you can use these pre-generated decks\n",
    "deck_loc = 'decks_20250228010552.npy'"
   ]
  },
  {
   "cell_type": "code",
   "execution_count": null,
   "id": "819eaa30",
   "metadata": {},
   "outputs": [],
   "source": [
    "#running simulation\n",
    "results, cards, tricks, ties_cards, ties_tricks = main_simulation.simulate_games(deck_path = deck_loc)"
   ]
  },
  {
   "cell_type": "code",
   "execution_count": null,
   "id": "376e0e2e",
   "metadata": {},
   "outputs": [],
   "source": [
    "#make plot\n",
    "visualizations.make_plot('test.png',cards, tricks, ties_cards, ties_tricks)"
   ]
  },
  {
   "cell_type": "code",
   "execution_count": null,
   "id": "29996e59",
   "metadata": {},
   "outputs": [],
   "source": []
  },
  {
   "cell_type": "code",
   "execution_count": null,
   "id": "31b308fe",
   "metadata": {},
   "outputs": [],
   "source": []
  },
  {
   "cell_type": "code",
   "execution_count": null,
   "id": "ee4afd9a",
   "metadata": {},
   "outputs": [],
   "source": []
  }
 ],
 "metadata": {
  "kernelspec": {
   "display_name": "Python 3 (ipykernel)",
   "language": "python",
   "name": "python3"
  },
  "language_info": {
   "codemirror_mode": {
    "name": "ipython",
    "version": 3
   },
   "file_extension": ".py",
   "mimetype": "text/x-python",
   "name": "python",
   "nbconvert_exporter": "python",
   "pygments_lexer": "ipython3",
   "version": "3.9.7"
  }
 },
 "nbformat": 4,
 "nbformat_minor": 5
}
