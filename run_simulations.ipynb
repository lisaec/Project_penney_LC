{
 "cells": [
  {
   "cell_type": "code",
   "execution_count": 1,
   "id": "3cda26b5",
   "metadata": {},
   "outputs": [
    {
     "name": "stderr",
     "output_type": "stream",
     "text": [
      "/Users/Lisa/opt/anaconda3/lib/python3.9/site-packages/pandas/core/computation/expressions.py:21: UserWarning: Pandas requires version '2.8.4' or newer of 'numexpr' (version '2.7.3' currently installed).\n",
      "  from pandas.core.computation.check import NUMEXPR_INSTALLED\n",
      "/Users/Lisa/opt/anaconda3/lib/python3.9/site-packages/pandas/core/arrays/masked.py:60: UserWarning: Pandas requires version '1.3.6' or newer of 'bottleneck' (version '1.3.2' currently installed).\n",
      "  from pandas.core import (\n",
      "/Users/Lisa/opt/anaconda3/lib/python3.9/site-packages/scipy/__init__.py:146: UserWarning: A NumPy version >=1.16.5 and <1.23.0 is required for this version of SciPy (detected version 1.26.4\n",
      "  warnings.warn(f\"A NumPy version >={np_minversion} and <{np_maxversion}\"\n"
     ]
    }
   ],
   "source": [
    "import data_gen\n",
    "import main_simulation\n",
    "import visualizations\n"
   ]
  },
  {
   "cell_type": "code",
   "execution_count": 2,
   "id": "ec8d4279",
   "metadata": {},
   "outputs": [],
   "source": [
    "#save 100,000 decks\n",
    "#using no seed as if this is the first time we are doing this\n",
    "deck_loc = data_gen.save_decks(100000, filepath = \"data\")"
   ]
  },
  {
   "cell_type": "code",
   "execution_count": null,
   "id": "819eaa30",
   "metadata": {},
   "outputs": [],
   "source": [
    "#running simulation\n",
    "results, cards, tricks, ties_cards, ties_tricks = main_simulation.simulate_games(deck_path = deck_loc)"
   ]
  },
  {
   "cell_type": "code",
   "execution_count": null,
   "id": "376e0e2e",
   "metadata": {},
   "outputs": [],
   "source": [
    "#make plot\n",
    "visualizations.make_plot('test.png',cards, tricks, ties_cards, ties_tricks)"
   ]
  },
  {
   "cell_type": "code",
   "execution_count": null,
   "id": "29996e59",
   "metadata": {},
   "outputs": [],
   "source": []
  },
  {
   "cell_type": "code",
   "execution_count": null,
   "id": "31b308fe",
   "metadata": {},
   "outputs": [],
   "source": []
  },
  {
   "cell_type": "code",
   "execution_count": null,
   "id": "ee4afd9a",
   "metadata": {},
   "outputs": [],
   "source": []
  }
 ],
 "metadata": {
  "kernelspec": {
   "display_name": "Python 3 (ipykernel)",
   "language": "python",
   "name": "python3"
  },
  "language_info": {
   "codemirror_mode": {
    "name": "ipython",
    "version": 3
   },
   "file_extension": ".py",
   "mimetype": "text/x-python",
   "name": "python",
   "nbconvert_exporter": "python",
   "pygments_lexer": "ipython3",
   "version": "3.9.7"
  }
 },
 "nbformat": 4,
 "nbformat_minor": 5
}
