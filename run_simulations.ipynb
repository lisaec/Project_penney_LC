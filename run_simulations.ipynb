{
 "cells": [
  {
   "cell_type": "code",
   "execution_count": null,
   "id": "3cda26b5",
   "metadata": {},
   "outputs": [],
   "source": [
    "from src import data_gen\n",
    "from src import simulation\n",
    "from src import visualizations"
   ]
  },
  {
   "cell_type": "markdown",
   "id": "8ac2f845",
   "metadata": {},
   "source": [
    "## Save Initial Decks"
   ]
  },
  {
   "cell_type": "code",
   "execution_count": null,
   "id": "ec8d4279",
   "metadata": {},
   "outputs": [],
   "source": [
    "# save 100,000 decks - this function returns the name of the deck file\n",
    "deck_loc = data_gen.save_decks(100000, filepath = \"data\")"
   ]
  },
  {
   "cell_type": "markdown",
   "id": "b72e033f",
   "metadata": {},
   "source": [
    "## Run the Simulation \n",
    "- this function simulates the penny game with every combination of player choices on every deck and saves the number of player 2 wins and ties per combination in Dataframe \"results\" and a dictionary of dictionaries holding the same data in \"all_wins\""
   ]
  },
  {
   "cell_type": "code",
   "execution_count": null,
   "id": "819eaa30",
   "metadata": {},
   "outputs": [],
   "source": [
    "results, n_games, all_wins = simulation.simulate_games(deck_path = deck_loc)"
   ]
  },
  {
   "cell_type": "code",
   "execution_count": null,
   "id": "376e0e2e",
   "metadata": {},
   "outputs": [],
   "source": [
    "#make the heatmaps\n",
    "visualizations.make_plot('test.png', results, n_games)"
   ]
  },
  {
   "cell_type": "markdown",
   "id": "9510f18d",
   "metadata": {},
   "source": [
    "## Add More Decks\n",
    "Generate new decks then use add_decks to simulate more games. The add decks function is similar to simulate_games, but allows you to pass in old results"
   ]
  },
  {
   "cell_type": "code",
   "execution_count": null,
   "id": "31b308fe",
   "metadata": {},
   "outputs": [],
   "source": [
    "# (if you made your own new decks, use the name of the most recent state in the seedpath argument)\n",
    "#if you don't enter an existing seed, it will generate a new seed and save it.  \n",
    "\n",
    "new_deck_loc = data_gen.save_decks(10000, filepath = \"data\")\n",
    "\n",
    "#simulating 10000 more games\n",
    "results, n_games, all_wins = simulation.add_decks(old_wins = all_wins, \n",
    "                                                  old_results = results,\n",
    "                                                  new_deck_path = new_deck_loc,\n",
    "                                                  n_old_games = n_games)"
   ]
  },
  {
   "cell_type": "code",
   "execution_count": null,
   "id": "2b851dc6",
   "metadata": {},
   "outputs": [],
   "source": [
    "#make new heatmaps with added decks\n",
    "visualizations.make_plot('test2.png', results, n_games)"
   ]
  }
 ],
 "metadata": {
  "kernelspec": {
   "display_name": "Python 3 (ipykernel)",
   "language": "python",
   "name": "python3"
  },
  "language_info": {
   "codemirror_mode": {
    "name": "ipython",
    "version": 3
   },
   "file_extension": ".py",
   "mimetype": "text/x-python",
   "name": "python",
   "nbconvert_exporter": "python",
   "pygments_lexer": "ipython3",
   "version": "3.9.7"
  }
 },
 "nbformat": 4,
 "nbformat_minor": 5
}
